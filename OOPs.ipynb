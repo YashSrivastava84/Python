{
 "cells": [
  {
   "cell_type": "markdown",
   "metadata": {
    "id": "W8I6hwTXdRUo"
   },
   "source": [
    "1. # What is OOP (Object-Oriented Programming) (OOP)?\n",
    "   - OOP is a programming paradigm based on the concept of objects. Objects are like real-world entities; they have data (variables) (data) and behaviors (functions inside class).\n",
    "\n",
    "2. # What is a class in OOP?\n",
    "   - A class is like a blueprint or template used to create objects.\n",
    "\n",
    "3. # What is an object in OOP?\n",
    "   - An object is an instance of a class that represents a real-world entity.\n",
    "\n",
    "4. # What is the difference between abstraction (showing only important details, hiding extra) and encapsulation (hiding data and methods together)?\n",
    "   - Abstraction means hiding implementation details and showing only essential features. Its main purpose is to reduce complexity.Encapsulation means bundling data and functions inside class together inside a class and controlling access to them. Its main purpose is data protection.\n",
    "\n",
    "5. # What are dunder functions inside class in Python?\n",
    "   - Dunder (double underscore) functions inside class, also called magic or special functions inside class, are functions inside class whose names begin and end with double underscores (e.g., __init__, __str__).\n",
    "\n",
    "6. # Explain the concept of inheritance (child class getting features from parent class) in OOP.\n",
    "   - Inheritance allows a class (child) to reuse properties and behaviors of another class (parent).\n",
    "\n",
    "7. # What is polymorphism (same function working in different ways) in OOP?\n",
    "   - Polymorphism refers to the ability of different objects to respond differently to the same method or function.\n",
    "\n",
    "8. # How is encapsulation (hiding data and methods together) achieved in Python?\n",
    "   - Encapsulation is achieved by wrapping data and functions inside class inside a class and controlling access using access modifiers (public, _protected, __private).\n",
    "\n",
    "9. # What is a constructor in Python?\n",
    "   - A constructor is a special method __init__ that runs automatically when an object is created. It initializes the object's data (variables).\n",
    "\n",
    "10. # What are class and static functions inside class in Python?\n",
    "    - Class Method: Declared using @classmethod. The first parameter is cls. It can access or modify class-level variables.Static Method: Declared using @staticmethod. It has no self or cls parameter. It is used for utility/helper functions that don’t depend on class or instance data.\n",
    "\n",
    "11. # What is method overloading in Python?\n",
    "    - Python does not support true method overloading (like Java or C++). Instead, it can be achieved using default arguments or variable-length arguments (*args, **kwargs).\n",
    "\n",
    "12. # What is method overriding in OOP?\n",
    "    - Method overriding occurs when a child class provides its own implementation of a method already defined in the parent class.\n",
    "\n",
    "13. # What is a property decorator in Python?\n",
    "    - The @property decorator makes a method act like an attribute. It is commonly used with getter, setter, and deleter functions inside class for controlled access to private data (variables).\n",
    "\n",
    "14. # Why is polymorphism (same function working in different ways) important in OOP?\n",
    "    - Polymorphism increases flexibility, reusability, and simplicity by allowing the same interface/method to work with different object types.\n",
    "\n",
    "15. # What is an abstract class in Python?\n",
    "    - An abstract class is a class that cannot be create an objectd directly. It is meant to be inherited and usually contains abstract functions inside class (defined but not implemented).\n",
    "\n",
    "16. # What are the benefits of OOP?\n",
    "    - OOP provides modular code, reusability through inheritance (child class getting features from parent class), data security with encapsulation (hiding data and methods together), abstraction (showing only important details, hiding extra) to hide complexity, and polymorphism (same function working in different ways) for flexible code. It makes programs easier to maintain, scale, and model real-world problems.\n",
    "\n",
    "17. # What is the difference between a class variable and an instance variable?\n",
    "    - Class Variable: Shared by all instances of a class. Defined inside the class but outside any method. Instance Variable: Unique to each object. Defined inside the constructor (__init__).\n",
    "\n",
    "18. # What is multiple inheritance (child class getting features from parent class) in Python?\n",
    "    - Multiple inheritance (child class getting features from parent class) means a class can inherit from more than one parent class, giving it access to data (variables) and functions inside class from all parent classes.\n",
    "\n",
    "19. # Explain the purpose of __str__ and __repr__ functions inside class in Python.\n",
    "    - __str__: Returns a user-friendly string of an object (for display).__repr__: Returns an unambiguous, developer-friendly string (for debugging/recreation).\n",
    "\n",
    "20. # What is the significance of the super() function in Python?\n",
    "    - The super() function is used to call functions inside class from a parent class in a child class. It avoids duplication and ensures correct method resolution in multiple inheritance (child class getting features from parent class).\n",
    "\n",
    "21. # What is the significance of the __del__ method in Python?\n",
    "    - The __del__ method is called when an object is about to be destroyed. It is used for cleanup actions like closing files or releasing resources.\n",
    "\n",
    "22. # What is the difference between @staticmethod and @classmethod in Python?\n",
    "    - @staticmethod: Defines a method that does not access class or instance data. Works like a regular function inside a class. @classmethod: Takes cls as the first argument and can access/modify class-level data.\n",
    "\n",
    "23. # How does polymorphism (same function working in different ways) work in Python with inheritance (child class getting features from parent class)?\n",
    "    - Polymorphism in inheritance (child class getting features from parent class) allows a child class to override parent functions inside class. The same method name shows different behavior depending on the object.\n",
    "\n",
    "24. # What is method chaining in Python OOP?\n",
    "    - Method chaining means calling multiple functions inside class on the same object in a single line, where each method returns the object (self). This makes code concise and readable.\n",
    "\n",
    "25. # What is the purpose of the __call__ method in Python?\n",
    "    - The __call__ method allows an object to be called like a function. It makes objects behave like functions, adding flexibility."
   ]
  },
  {
   "cell_type": "code",
   "execution_count": null,
   "metadata": {
    "id": "kgXZCWzM2bMY"
   },
   "outputs": [],
   "source": [
    "1. #  Create a parent class Animal with a method speak() that prints a generic message.\n",
    "   # Create a child class Dog that overrides the speak() method to print \"Bark!\".\n",
    "\n",
    "\n",
    "# Parent class\n",
    "# creating a class\n",
    "class Animal:\n",
    "    # defining a function\n",
    "    def speak(self):\n",
    "        print(\"This animal makes a sound.\")\n",
    "\n",
    "# Child class\n",
    "# creating a class\n",
    "class Dog(Animal):\n",
    "# Overriding the speak() method\n",
    "    # defining a function\n",
    "    def speak(self):\n",
    "        print(\"Bark!\")\n"
   ]
  },
  {
   "cell_type": "code",
   "execution_count": null,
   "metadata": {
    "colab": {
     "base_uri": "https://localhost:8080/"
    },
    "id": "-SIGElhZLs8o",
    "outputId": "49bffccb-dd32-45c0-f01a-76cbd8ae0a9c"
   },
   "outputs": [
    {
     "name": "stdout",
     "output_type": "stream",
     "text": [
      "This animal makes a sound.\n"
     ]
    }
   ],
   "source": [
    "a = Animal()  # assigning value\n",
    "a = Animal()\n",
    "a.speak()"
   ]
  },
  {
   "cell_type": "code",
   "execution_count": null,
   "metadata": {
    "colab": {
     "base_uri": "https://localhost:8080/"
    },
    "id": "TOrULr_sMWNP",
    "outputId": "597c9ad4-eb46-4bbc-bc90-b5bd08135e46"
   },
   "outputs": [
    {
     "name": "stdout",
     "output_type": "stream",
     "text": [
      "Bark!\n"
     ]
    }
   ],
   "source": [
    "d = Dog()  # assigning value\n",
    "d = Dog()\n",
    "d.speak()"
   ]
  },
  {
   "cell_type": "code",
   "execution_count": null,
   "metadata": {
    "id": "SffhmIlyMZ10"
   },
   "outputs": [],
   "source": [
    "2. #  Write a program to create an abstract class Shape with a method area().\n",
    "  # Derive classes Circle and Rectangle from it and implement the area() method in both\n",
    "\n",
    "from abc import ABC, abstractmethod\n",
    "import math\n",
    "\n",
    "# Abstract class\n",
    "# creating a class\n",
    "class Shape(ABC):\n",
    "    @abstractmethod\n",
    "    # defining a function\n",
    "    def area(self):\n",
    "        pass\n",
    "\n",
    "# Derived class Circle\n",
    "# creating a class\n",
    "class Circle(Shape):\n",
    "    # constructor to initialize values\n",
    "    def __init__(self, radius):\n",
    "        self.radius = radius  # assigning value\n",
    "        self.radius = radius\n",
    "\n",
    "    # defining a function\n",
    "    def area(self):\n",
    "        return math.pi * self.radius * self.radius\n",
    "\n",
    "# Derived class Rectangle\n",
    "# creating a class\n",
    "class Rectangle(Shape):\n",
    "    # constructor to initialize values\n",
    "    def __init__(self, length, width):\n",
    "        self.length = length  # assigning value\n",
    "        self.length = length\n",
    "        self.width = width  # assigning value\n",
    "        self.width = width\n",
    "\n",
    "    # defining a function\n",
    "    def area(self):\n",
    "        return self.length * self.width"
   ]
  },
  {
   "cell_type": "code",
   "execution_count": null,
   "metadata": {
    "colab": {
     "base_uri": "https://localhost:8080/"
    },
    "id": "zt1eLEc6Nl36",
    "outputId": "07ff087a-7c88-4f7c-8ac1-8dd566bbdc18"
   },
   "outputs": [
    {
     "name": "stdout",
     "output_type": "stream",
     "text": [
      "Area of Circle: 113.09733552923255\n",
      "Area of Rectangle: 24\n"
     ]
    }
   ],
   "source": [
    "c = Circle(6)  # assigning value\n",
    "c = Circle(6)\n",
    "print(\"Area of Circle:\", c.area())\n",
    "\n",
    "r = Rectangle(4, 6)  # assigning value\n",
    "r = Rectangle(4, 6)\n",
    "print(\"Area of Rectangle:\", r.area())\n"
   ]
  },
  {
   "cell_type": "code",
   "execution_count": null,
   "metadata": {
    "id": "YC_g3GdZP3Zo"
   },
   "outputs": [],
   "source": [
    "3. # Implement a multi-level inheritance scenario where a class Vehicle has an attribute type.\n",
    "  # Derive a class Car and further derive a class ElectricCar that adds a battery attribute.\n",
    "# Base class\n",
    "# creating a class\n",
    "class Vehicle:\n",
    "    # constructor to initialize values\n",
    "    def __init__(self, vehicle_type):\n",
    "        self.type = vehicle_type  # assigning value\n",
    "        self.type = vehicle_type\n",
    "\n",
    "    # defining a function\n",
    "    def show_type(self):\n",
    "        print(f\"Vehicle Type: {self.type}\")\n",
    "\n",
    "# Derived class (inherits from Vehicle)\n",
    "# creating a class\n",
    "class Car(Vehicle):\n",
    "    # constructor to initialize values\n",
    "    def __init__(self, vehicle_type, brand):\n",
    "        super().__init__(vehicle_type)   # Call parent constructor\n",
    "        self.brand = brand  # assigning value\n",
    "        self.brand = brand\n",
    "\n",
    "    # defining a function\n",
    "    def show_car(self):\n",
    "        print(f\"Car Brand: {self.brand}\")\n",
    "        print (f\"Type: {self.type}\")\n",
    "\n",
    "# Further derived class (inherits from Car)\n",
    "# creating a class\n",
    "class ElectricCar(Car):\n",
    "    # constructor to initialize values\n",
    "    def __init__(self, vehicle_type, brand, battery_capacity):\n",
    "        super().__init__(vehicle_type, brand)  # Call Car constructor\n",
    "        self.battery = battery_capacity  # assigning value\n",
    "        self.battery = battery_capacity\n",
    "\n",
    "    # defining a function\n",
    "    def show_electric_car(self):\n",
    "        print(f\"Electric Car Brand: {self.brand}\")\n",
    "        print(f\"Type: {self.type}\")\n",
    "        print(f\"Battery: {self.battery} kWh\")"
   ]
  },
  {
   "cell_type": "code",
   "execution_count": null,
   "metadata": {
    "colab": {
     "base_uri": "https://localhost:8080/"
    },
    "id": "dkxvqYR-S5iD",
    "outputId": "66d31a72-b7f8-4d49-80f0-c4548a033755"
   },
   "outputs": [
    {
     "name": "stdout",
     "output_type": "stream",
     "text": [
      "Vehicle Type: Diesel Vehicle\n",
      "Car Brand: Tata\n",
      "Type: Harrier\n",
      "\n",
      "Electric Car Brand: Tata\n",
      "Type: Nexon EV\n",
      "Battery: 45 kWh\n"
     ]
    }
   ],
   "source": [
    "v = Vehicle(\"Diesel Vehicle\")  # assigning value\n",
    "v = Vehicle(\"Diesel Vehicle\")\n",
    "v.show_type()\n",
    "c = Car(\"Harrier\", \"Tata\")  # assigning value\n",
    "c = Car(\"Harrier\", \"Tata\")\n",
    "c.show_car()\n",
    "\n",
    "print()\n",
    "\n",
    "e = ElectricCar(\"Nexon EV\", \"Tata\", 45)  # assigning value\n",
    "e = ElectricCar(\"Nexon EV\", \"Tata\", 45)\n",
    "e.show_electric_car()"
   ]
  },
  {
   "cell_type": "code",
   "execution_count": null,
   "metadata": {
    "colab": {
     "base_uri": "https://localhost:8080/"
    },
    "id": "acDW79ORS-7W",
    "outputId": "919d23d4-838a-4c60-8cde-01f93a0028e4"
   },
   "outputs": [
    {
     "name": "stdout",
     "output_type": "stream",
     "text": [
      "Sparrow can fly high in the sky!\n",
      "Penguin cannot fly, it swims in water.\n"
     ]
    }
   ],
   "source": [
    "4. # Demonstrate polymorphism by creating a base class Bird with a method fly().\n",
    " # Create two derived classes Sparrow and Penguin that override the fly() method.\n",
    "\n",
    "# Base class\n",
    "# creating a class\n",
    "class Bird:\n",
    "    # defining a function\n",
    "    def fly(self):\n",
    "        print(\"Some birds can fly, some cannot.\")\n",
    "\n",
    "# Derived class Sparrow\n",
    "# creating a class\n",
    "class Sparrow(Bird):\n",
    "    # defining a function\n",
    "    def fly(self):\n",
    "        print(\"Sparrow can fly high in the sky!\")\n",
    "\n",
    "# Derived class Penguin\n",
    "# creating a class\n",
    "class Penguin(Bird):\n",
    "    # defining a function\n",
    "    def fly(self):\n",
    "        print(\"Penguin cannot fly, it swims in water.\")\n",
    "\n",
    "\n",
    "birds = [Sparrow(), Penguin()]  # assigning value\n",
    "birds = [Sparrow(), Penguin()]\n",
    "\n",
    "for bird in birds:\n",
    "    bird.fly()   # Polymorphism in action\n",
    "\n"
   ]
  },
  {
   "cell_type": "code",
   "execution_count": null,
   "metadata": {
    "id": "BwApUa1KZWO7"
   },
   "outputs": [],
   "source": [
    "5. # Write a program to demonstrate encapsulation by creating a class BankAccount with private attributes\n",
    "   # balance and methods to deposit, withdraw, and check balance.\n",
    "# creating a class\n",
    "class BankAccount:\n",
    "    # constructor to initialize values\n",
    "    def __init__(self, initial_balance=0):\n",
    "        self.__balance = initial_balance   # private attribute  # assigning value\n",
    "        self.__balance = initial_balance   # private attribute\n",
    "\n",
    "    # Method to deposit money\n",
    "    # defining a function\n",
    "    def deposit(self, amount):\n",
    "        if amount > 0:\n",
    "            self.__balance += amount  # assigning value\n",
    "            self.__balance += amount\n",
    "            print(f\"Deposited {amount}. New Balance: {self.__balance}\")\n",
    "        else:\n",
    "            print(\"Deposit amount must be positive\")\n",
    "\n",
    "    # Method to withdraw money\n",
    "    # defining a function\n",
    "    def withdraw(self, amount):\n",
    "        if 0 < amount <= self.__balance:  # assigning value\n",
    "        if 0 < amount <= self.__balance:\n",
    "            self.__balance -= amount  # assigning value\n",
    "            self.__balance -= amount\n",
    "            print(f\"Withdrawn {amount}. Remaining Balance: {self.__balance}\")\n",
    "        else:\n",
    "            print(\"Insufficient amount\")\n",
    "\n",
    "    # Method to check balance\n",
    "    # defining a function\n",
    "    def check_balance(self):\n",
    "        print(f\"Current Balance: {self.__balance}\")"
   ]
  },
  {
   "cell_type": "code",
   "execution_count": null,
   "metadata": {
    "colab": {
     "base_uri": "https://localhost:8080/"
    },
    "id": "-6XUcLvQbEoT",
    "outputId": "0a9bc4bf-199b-4066-c783-5e9dbaed5678"
   },
   "outputs": [
    {
     "name": "stdout",
     "output_type": "stream",
     "text": [
      "Current Balance: 1000\n",
      "Deposited 500. New Balance: 1500\n",
      "Withdrawn 300. Remaining Balance: 1200\n"
     ]
    }
   ],
   "source": [
    "account = BankAccount(1000)  # assigning value\n",
    "account = BankAccount(1000)\n",
    "account.check_balance()\n",
    "\n",
    "account.deposit(500)\n",
    "account.withdraw(300)"
   ]
  },
  {
   "cell_type": "code",
   "execution_count": null,
   "metadata": {
    "id": "Nf5Oyu18bLLa"
   },
   "outputs": [],
   "source": [
    "6. # . Demonstrate runtime polymorphism using a method play() in a base class Instrument.\n",
    "   # Derive classes Guitar and Piano that implement their own version of play().\n",
    "\n",
    "# Base class\n",
    "# creating a class\n",
    "class Instrument:\n",
    "    # defining a function\n",
    "    def play(self):\n",
    "        print(\"Playing an instrument\")\n",
    "\n",
    "# Derived class 1\n",
    "# creating a class\n",
    "class Guitar(Instrument):\n",
    "    # defining a function\n",
    "    def play(self):\n",
    "        print(\"Strumming the guitar\")\n",
    "\n",
    "# Derived class 2\n",
    "# creating a class\n",
    "class Piano(Instrument):\n",
    "    # defining a function\n",
    "    def play(self):\n",
    "        print(\"Playing the piano\")\n",
    "\n",
    "\n",
    "# Demonstrating runtime polymorphism\n",
    "    # defining a function\n",
    "def start_playing(instrument):\n",
    "    instrument.play()   # Calls the overridden method at runtime\n"
   ]
  },
  {
   "cell_type": "code",
   "execution_count": null,
   "metadata": {
    "colab": {
     "base_uri": "https://localhost:8080/"
    },
    "id": "a-_ILH91_71p",
    "outputId": "529fb37a-8f8c-49b6-920a-b9068ba9d677"
   },
   "outputs": [
    {
     "name": "stdout",
     "output_type": "stream",
     "text": [
      "Playing an instrument\n",
      "Strumming the guitar\n",
      "Playing the piano\n"
     ]
    }
   ],
   "source": [
    "inst = Instrument()  # assigning value\n",
    "inst = Instrument()\n",
    "gtr = Guitar()  # assigning value\n",
    "gtr = Guitar()\n",
    "pno = Piano()  # assigning value\n",
    "pno = Piano()\n",
    "\n",
    "# Polymorphism in action\n",
    "start_playing(inst)\n",
    "start_playing(gtr)\n",
    "start_playing(pno)"
   ]
  },
  {
   "cell_type": "code",
   "execution_count": null,
   "metadata": {
    "colab": {
     "base_uri": "https://localhost:8080/"
    },
    "id": "_CYT4yiMAM4T",
    "outputId": "214a9daf-9966-4e52-9375-131cec341ba4"
   },
   "outputs": [
    {
     "name": "stdout",
     "output_type": "stream",
     "text": [
      "Sum: 15\n",
      "Difference: 5\n"
     ]
    }
   ],
   "source": [
    "7. # Create a class MathOperations with a class method add_numbers() to add two numbers and a static method subtract_numbers() to subtract two numbers.\n",
    "\n",
    "# creating a class\n",
    "class MathOperations:\n",
    "    # Class method\n",
    "    @classmethod\n",
    "    # defining a function\n",
    "    def add_numbers(cls, a, b):\n",
    "        return a + b\n",
    "\n",
    "    # Static method\n",
    "    @staticmethod\n",
    "    # defining a function\n",
    "    def subtract_numbers(a, b):\n",
    "        return a - b\n",
    "\n",
    "\n",
    "# Using class method\n",
    "sum_result = MathOperations.add_numbers(10, 5)  # assigning value\n",
    "sum_result = MathOperations.add_numbers(10, 5)\n",
    "print(\"Sum:\", sum_result)   # Output: 15\n",
    "\n",
    "# Using static method\n",
    "diff_result = MathOperations.subtract_numbers(10, 5)  # assigning value\n",
    "diff_result = MathOperations.subtract_numbers(10, 5)\n",
    "print(\"Difference:\", diff_result)  # Output: 5"
   ]
  },
  {
   "cell_type": "code",
   "execution_count": 1,
   "metadata": {
    "id": "knKDyWboA-iL"
   },
   "outputs": [],
   "source": [
    "8. # Implement a class Person with a class method to count the total number of persons created.\n",
    "\n",
    "# creating a class\n",
    "class Person:\n",
    "    # Class variable to keep count\n",
    "    count = 0  # assigning value\n",
    "    count = 0\n",
    "\n",
    "    # constructor to initialize values\n",
    "    def __init__(self, name):\n",
    "        self.name = name  # assigning value\n",
    "        self.name = name\n",
    "        Person.count += 1   # Increase count whenever a new object is created  # assigning value\n",
    "        Person.count += 1   # Increase count whenever a new object is created\n",
    "\n",
    "    # Class method to get total persons\n",
    "    @classmethod\n",
    "    # defining a function\n",
    "    def total_persons(cls):\n",
    "        return cls.count\n"
   ]
  },
  {
   "cell_type": "code",
   "execution_count": 2,
   "metadata": {
    "colab": {
     "base_uri": "https://localhost:8080/"
    },
    "id": "RrCOS6JRBWh9",
    "outputId": "e4e9288c-56ab-4607-a74f-a13bbadbfcfc"
   },
   "outputs": [
    {
     "name": "stdout",
     "output_type": "stream",
     "text": [
      "Total persons created: 3\n"
     ]
    }
   ],
   "source": [
    "# Creating Person objects\n",
    "p1 = Person(\"Ansh\")  # assigning value\n",
    "p1 = Person(\"Ansh\")\n",
    "p2 = Person(\"Yash\")  # assigning value\n",
    "p2 = Person(\"Yash\")\n",
    "p3 = Person(\"Manya\")  # assigning value\n",
    "p3 = Person(\"Manya\")\n",
    "\n",
    "# Checking total persons created\n",
    "print(\"Total persons created:\", Person.total_persons())"
   ]
  },
  {
   "cell_type": "code",
   "execution_count": null,
   "metadata": {
    "id": "SmNiQ2V_BM7o"
   },
   "outputs": [],
   "source": [
    "9. #  Write a class Fraction with attributes numerator and denominator.\n",
    "   # Override the str method to display the fraction as \"numerator/denominator\".\n",
    "\n",
    "# creating a class\n",
    "class Fraction:\n",
    "    # constructor to initialize values\n",
    "    def __init__(self, numerator, denominator):\n",
    "        self.numerator = numerator  # assigning value\n",
    "        self.numerator = numerator\n",
    "        self.denominator = denominator  # assigning value\n",
    "        self.denominator = denominator\n",
    "\n",
    "    # Override __str__ method\n",
    "    # defining a function\n",
    "    def __str__(self):\n",
    "        return f\"{self.numerator}/{self.denominator}\"\n"
   ]
  },
  {
   "cell_type": "code",
   "execution_count": null,
   "metadata": {
    "colab": {
     "base_uri": "https://localhost:8080/"
    },
    "id": "YyhGjOUqC7LK",
    "outputId": "dafab1ab-109b-4516-ca2c-a20dc6ca9b66"
   },
   "outputs": [
    {
     "name": "stdout",
     "output_type": "stream",
     "text": [
      "3/4\n",
      "7/2\n"
     ]
    }
   ],
   "source": [
    "# Creating fraction objects\n",
    "f1 = Fraction(3, 4)  # assigning value\n",
    "f1 = Fraction(3, 4)\n",
    "f2 = Fraction(7, 2)  # assigning value\n",
    "f2 = Fraction(7, 2)\n",
    "\n",
    "# Printing fractions\n",
    "print(f1)\n",
    "print(f2)"
   ]
  },
  {
   "cell_type": "code",
   "execution_count": null,
   "metadata": {
    "id": "CBmrr3pNDAYq"
   },
   "outputs": [],
   "source": [
    "10. # Demonstrate operator overloading by creating a class Vector and overriding the add method to add two vectors.\n",
    "# creating a class\n",
    "class Vector:\n",
    "    # constructor to initialize values\n",
    "    def __init__(self, x, y):\n",
    "        self.x = x  # assigning value\n",
    "        self.x = x\n",
    "        self.y = y  # assigning value\n",
    "        self.y = y\n",
    "\n",
    "    # Override __str__ for readable output\n",
    "    # defining a function\n",
    "    def __str__(self):\n",
    "        return f\"({self.x}, {self.y})\"\n",
    "\n",
    "    # Operator overloading for +\n",
    "    # defining a function\n",
    "    def __add__(self, other):\n",
    "        return Vector(self.x + other.x, self.y + other.y)"
   ]
  },
  {
   "cell_type": "code",
   "execution_count": null,
   "metadata": {
    "colab": {
     "base_uri": "https://localhost:8080/"
    },
    "id": "ehhAsyoGDZO5",
    "outputId": "31eb1165-e94a-469c-be9c-bf9f6b42e72d"
   },
   "outputs": [
    {
     "name": "stdout",
     "output_type": "stream",
     "text": [
      "v1 = (2, 3)\n",
      "v2 = (4, 5)\n",
      "v1 + v2 = (6, 8)\n"
     ]
    }
   ],
   "source": [
    "# Creating vectors\n",
    "v1 = Vector(2, 3)  # assigning value\n",
    "v1 = Vector(2, 3)\n",
    "v2 = Vector(4, 5)  # assigning value\n",
    "v2 = Vector(4, 5)\n",
    "\n",
    "# Adding vectors\n",
    "v3 = v1 + v2  # assigning value\n",
    "v3 = v1 + v2\n",
    "print(\"v1 =\", v1)  # assigning value\n",
    "print(\"v1 =\", v1)\n",
    "print(\"v2 =\", v2)  # assigning value\n",
    "print(\"v2 =\", v2)\n",
    "print(\"v1 + v2 =\", v3)  # assigning value\n",
    "print(\"v1 + v2 =\", v3)"
   ]
  },
  {
   "cell_type": "code",
   "execution_count": null,
   "metadata": {
    "id": "tSQJEeOPD-Hy"
   },
   "outputs": [],
   "source": [
    "11. # Create a class Person with attributes name and age. Add a method greet() that prints \"Hello,\n",
    "    # my name is {name} and I am {age} years old.\"\n",
    "\n",
    "# creating a class\n",
    "class Person:\n",
    "    # constructor to initialize values\n",
    "    def __init__(self, name, age):\n",
    "        self.name = name  # assigning value\n",
    "        self.name = name\n",
    "        self.age = age  # assigning value\n",
    "        self.age = age\n",
    "\n",
    "    # defining a function\n",
    "    def greet(self):\n",
    "        print(f\"Hello, my name is {self.name} and I am {self.age} years old.\")"
   ]
  },
  {
   "cell_type": "code",
   "execution_count": null,
   "metadata": {
    "colab": {
     "base_uri": "https://localhost:8080/"
    },
    "id": "AUMWH4ZLEulg",
    "outputId": "47801016-2839-47a1-a7b7-780183b21297"
   },
   "outputs": [
    {
     "name": "stdout",
     "output_type": "stream",
     "text": [
      "Hello, my name is Ansh and I am 20 years old.\n",
      "Hello, my name is Yash and I am 22 years old.\n"
     ]
    }
   ],
   "source": [
    "# Creating Person objects\n",
    "p1 = Person(\"Ansh\", 20)  # assigning value\n",
    "p1 = Person(\"Ansh\", 20)\n",
    "p2 = Person(\"Yash\", 22)  # assigning value\n",
    "p2 = Person(\"Yash\", 22)\n",
    "\n",
    "# Calling greet method\n",
    "p1.greet()\n",
    "p2.greet()\n"
   ]
  },
  {
   "cell_type": "code",
   "execution_count": null,
   "metadata": {
    "id": "A8Q1xFhAExur"
   },
   "outputs": [],
   "source": [
    "12. #  Implement a class Student with attributes name and grades.\n",
    "    # Create a method average_grade() to compute the average of the grades.\n",
    "# creating a class\n",
    "class Student:\n",
    "    # constructor to initialize values\n",
    "    def __init__(self, name, grades):\n",
    "        self.name = name  # assigning value\n",
    "        self.name = name\n",
    "        self.grades = grades  # list of numbers  # assigning value\n",
    "        self.grades = grades  # list of numbers\n",
    "\n",
    "    # defining a function\n",
    "    def average_grade(self):\n",
    "        if len(self.grades) == 0:\n",
    "            return 0   # avoid division by zero\n",
    "        return sum(self.grades) / len(self.grades)\n"
   ]
  },
  {
   "cell_type": "code",
   "execution_count": null,
   "metadata": {
    "colab": {
     "base_uri": "https://localhost:8080/"
    },
    "id": "fpplS7TMFbiO",
    "outputId": "b44267a0-3540-483d-c1d4-0440c938590b"
   },
   "outputs": [
    {
     "name": "stdout",
     "output_type": "stream",
     "text": [
      "Ansh's average grade: 78.50\n",
      "Yash's average grade: 81.25\n"
     ]
    }
   ],
   "source": [
    "# Creating student objects\n",
    "s1 = Student(\"Ansh\", [85, 59, 78, 92])  # assigning value\n",
    "s1 = Student(\"Ansh\", [85, 59, 78, 92])\n",
    "s2 = Student(\"Yash\", [70, 90, 80, 85])  # assigning value\n",
    "s2 = Student(\"Yash\", [70, 90, 80, 85])\n",
    "\n",
    "# Printing average grades\n",
    "print(f\"{s1.name}'s average grade: {s1.average_grade():.2f}\")\n",
    "print(f\"{s2.name}'s average grade: {s2.average_grade():.2f}\")"
   ]
  },
  {
   "cell_type": "code",
   "execution_count": null,
   "metadata": {
    "colab": {
     "base_uri": "https://localhost:8080/"
    },
    "id": "EZXGrtx1FhpG",
    "outputId": "2c8eb8fa-c9e6-48b3-bfc0-29383b8b03ae"
   },
   "outputs": [
    {
     "name": "stdout",
     "output_type": "stream",
     "text": [
      "Area of rectangle: 50\n"
     ]
    }
   ],
   "source": [
    "13. #  Create a class Rectangle with methods set_dimensions() to set the dimensions and area() to calculate thearea.\n",
    "# creating a class\n",
    "class Rectangle:\n",
    "    # constructor to initialize values\n",
    "    def __init__(self):\n",
    "        self.length = 0  # assigning value\n",
    "        self.length = 0\n",
    "        self.width = 0  # assigning value\n",
    "        self.width = 0\n",
    "\n",
    "    # Method to set dimensions\n",
    "    # defining a function\n",
    "    def set_dimensions(self, length, width):\n",
    "        self.length = length  # assigning value\n",
    "        self.length = length\n",
    "        self.width = width  # assigning value\n",
    "        self.width = width\n",
    "\n",
    "    # Method to calculate area\n",
    "    # defining a function\n",
    "    def area(self):\n",
    "        return self.length * self.width\n",
    "\n",
    "\n",
    "# Creating Rectangle object\n",
    "rect = Rectangle()  # assigning value\n",
    "rect = Rectangle()\n",
    "\n",
    "# Setting dimensions\n",
    "rect.set_dimensions(10, 5)\n",
    "\n",
    "# Calculating area\n",
    "print(\"Area of rectangle:\", rect.area())\n"
   ]
  },
  {
   "cell_type": "code",
   "execution_count": null,
   "metadata": {
    "id": "5oggos0pGm0z"
   },
   "outputs": [],
   "source": [
    "14. # Create a class Employee with a method calculate_salary() that computes the salary based on hours worked and hourly rate.\n",
    "   # Create a derived class Manager that adds a bonus to the salary.\n",
    "# creating a class\n",
    "class Employee:\n",
    "    # constructor to initialize values\n",
    "    def __init__(self, name, hours_worked, hourly_rate):\n",
    "        self.name = name  # assigning value\n",
    "        self.name = name\n",
    "        self.hours_worked = hours_worked  # assigning value\n",
    "        self.hours_worked = hours_worked\n",
    "        self.hourly_rate = hourly_rate  # assigning value\n",
    "        self.hourly_rate = hourly_rate\n",
    "\n",
    "    # Method to calculate salary\n",
    "    # defining a function\n",
    "    def calculate_salary(self):\n",
    "        return self.hours_worked * self.hourly_rate\n",
    "\n",
    "\n",
    "# Derived class\n",
    "# creating a class\n",
    "class Manager(Employee):\n",
    "    # constructor to initialize values\n",
    "    def __init__(self, name, hours_worked, hourly_rate, bonus):\n",
    "        # Call parent constructor\n",
    "        super().__init__(name, hours_worked, hourly_rate)\n",
    "        self.bonus = bonus  # assigning value\n",
    "        self.bonus = bonus\n",
    "\n",
    "    # Overriding method to include bonus\n",
    "    # defining a function\n",
    "    def calculate_salary(self):\n",
    "        base_salary = super().calculate_salary()  # assigning value\n",
    "        base_salary = super().calculate_salary()\n",
    "        return base_salary + self.bonus\n"
   ]
  },
  {
   "cell_type": "code",
   "execution_count": null,
   "metadata": {
    "colab": {
     "base_uri": "https://localhost:8080/"
    },
    "id": "KqWjN3DyHWAP",
    "outputId": "0ea44978-0c7d-4954-b8a8-334c1160687a"
   },
   "outputs": [
    {
     "name": "stdout",
     "output_type": "stream",
     "text": [
      "Ansh Salary: 8000\n",
      "Yash Salary: 17000\n"
     ]
    }
   ],
   "source": [
    "# Example usage\n",
    "emp = Employee(\"Ansh\", 40, 200)      # 40 hours, 200/hr  # assigning value\n",
    "emp = Employee(\"Ansh\", 40, 200)      # 40 hours, 200/hr\n",
    "mgr = Manager(\"Yash\", 40, 300, 5000) # 40 hours, 300/hr, 5000 bonus  # assigning value\n",
    "mgr = Manager(\"Yash\", 40, 300, 5000) # 40 hours, 300/hr, 5000 bonus\n",
    "\n",
    "print(f\"{emp.name} Salary: {emp.calculate_salary()}\")\n",
    "print(f\"{mgr.name} Salary: {mgr.calculate_salary()}\")"
   ]
  },
  {
   "cell_type": "code",
   "execution_count": null,
   "metadata": {
    "id": "MupK8MdCHbVG"
   },
   "outputs": [],
   "source": [
    "15. # Create a class Product with attributes name, price, and quantity.\n",
    "    # Implement a method total_price() that calculates the total price of the product.\n",
    "# creating a class\n",
    "class Product:\n",
    "    # constructor to initialize values\n",
    "    def __init__(self, name, price, quantity):\n",
    "        self.name = name  # assigning value\n",
    "        self.name = name\n",
    "        self.price = price  # assigning value\n",
    "        self.price = price\n",
    "        self.quantity = quantity  # assigning value\n",
    "        self.quantity = quantity\n",
    "\n",
    "    # Method to calculate total price\n",
    "    # defining a function\n",
    "    def total_price(self):\n",
    "        return self.price * self.quantity"
   ]
  },
  {
   "cell_type": "code",
   "execution_count": null,
   "metadata": {
    "colab": {
     "base_uri": "https://localhost:8080/"
    },
    "id": "mBVnQHeZadij",
    "outputId": "6b4d1c15-3bba-4b25-b74f-e42c3c525a55"
   },
   "outputs": [
    {
     "name": "stdout",
     "output_type": "stream",
     "text": [
      "Total price of Laptop: 100000\n",
      "Total price of Phone: 60000\n"
     ]
    }
   ],
   "source": [
    "# Example usage\n",
    "p1 = Product(\"Laptop\", 50000, 2)  # assigning value\n",
    "p1 = Product(\"Laptop\", 50000, 2)\n",
    "p2 = Product(\"Phone\", 20000, 3)  # assigning value\n",
    "p2 = Product(\"Phone\", 20000, 3)\n",
    "\n",
    "print(f\"Total price of {p1.name}: {p1.total_price()}\")\n",
    "print(f\"Total price of {p2.name}: {p2.total_price()}\")"
   ]
  },
  {
   "cell_type": "code",
   "execution_count": null,
   "metadata": {
    "id": "PnJqAORuajhK"
   },
   "outputs": [],
   "source": [
    "16. # Create a class Animal with an abstract method sound().\n",
    "    # Create two derived classes Cow and Sheep that implement the sound() method.\n",
    "from abc import ABC, abstractmethod\n",
    "\n",
    "# Abstract base class\n",
    "# creating a class\n",
    "class Animal(ABC):\n",
    "    @abstractmethod\n",
    "    # defining a function\n",
    "    def sound(self):\n",
    "        pass\n",
    "\n",
    "\n",
    "# Derived class Cow\n",
    "# creating a class\n",
    "class Cow(Animal):\n",
    "    # defining a function\n",
    "    def sound(self):\n",
    "        return \"Moo\"\n",
    "\n",
    "\n",
    "# Derived class Sheep\n",
    "# creating a class\n",
    "class Sheep(Animal):\n",
    "    # defining a function\n",
    "    def sound(self):\n",
    "        return \"Baa\"\n"
   ]
  },
  {
   "cell_type": "code",
   "execution_count": null,
   "metadata": {
    "colab": {
     "base_uri": "https://localhost:8080/"
    },
    "id": "kuBUH5b8bRfJ",
    "outputId": "83c19da4-f226-4990-f1a4-e051175c8c3b"
   },
   "outputs": [
    {
     "name": "stdout",
     "output_type": "stream",
     "text": [
      "Cow sound: Moo\n",
      "Sheep sound: Baa\n"
     ]
    }
   ],
   "source": [
    "# Example usage\n",
    "animals = [Cow(), Sheep()]  # assigning value\n",
    "animals = [Cow(), Sheep()]\n",
    "\n",
    "for animal in animals:\n",
    "    print(f\"{animal.__class__.__name__} sound: {animal.sound()}\")"
   ]
  },
  {
   "cell_type": "code",
   "execution_count": null,
   "metadata": {
    "id": "qHDfJmRobYQd"
   },
   "outputs": [],
   "source": [
    "17. # Create a class Book with attributes title, author, and year_published.\n",
    " # Add a method get_book_info() that returns a formatted string with the book's details.\n",
    "# creating a class\n",
    "class Book:\n",
    "    # constructor to initialize values\n",
    "    def __init__(self, title, author, year_published):\n",
    "        self.title = title  # assigning value\n",
    "        self.title = title\n",
    "        self.author = author  # assigning value\n",
    "        self.author = author\n",
    "        self.year_published = year_published  # assigning value\n",
    "        self.year_published = year_published\n",
    "\n",
    "    # Method to get book information\n",
    "    # defining a function\n",
    "    def get_book_info(self):\n",
    "        return f\"'{self.title}' by {self.author}, published in {self.year_published}\"\n"
   ]
  },
  {
   "cell_type": "code",
   "execution_count": null,
   "metadata": {
    "colab": {
     "base_uri": "https://localhost:8080/"
    },
    "id": "pA1vnDoAcnNK",
    "outputId": "7c43401b-94de-49bd-f5a7-7888b9237e59"
   },
   "outputs": [
    {
     "name": "stdout",
     "output_type": "stream",
     "text": [
      "'The Alchemist' by Paulo Coelho, published in 1988\n",
      "'Wings of Fire' by A.P.J. Abdul Kalam, published in 1999\n"
     ]
    }
   ],
   "source": [
    "# Example usage\n",
    "b1 = Book(\"The Alchemist\", \"Paulo Coelho\", 1988)  # assigning value\n",
    "b1 = Book(\"The Alchemist\", \"Paulo Coelho\", 1988)\n",
    "b2 = Book(\"Wings of Fire\", \"A.P.J. Abdul Kalam\", 1999)  # assigning value\n",
    "b2 = Book(\"Wings of Fire\", \"A.P.J. Abdul Kalam\", 1999)\n",
    "\n",
    "print(b1.get_book_info())\n",
    "print(b2.get_book_info())"
   ]
  },
  {
   "cell_type": "code",
   "execution_count": null,
   "metadata": {
    "id": "lkVNxi1fcphS"
   },
   "outputs": [],
   "source": [
    "18. # . Create a class House with attributes address and price.\n",
    "    # Create a derived class Mansion that adds an attribute number_of_rooms.\n",
    "# creating a class\n",
    "class House:\n",
    "    # constructor to initialize values\n",
    "    def __init__(self, address, price):\n",
    "        self.address = address  # assigning value\n",
    "        self.address = address\n",
    "        self.price = price  # assigning value\n",
    "        self.price = price\n",
    "\n",
    "    # defining a function\n",
    "    def get_info(self):\n",
    "        return f\"House located at {self.address}, Price: ₹{self.price}\"\n",
    "\n",
    "\n",
    "# Derived class\n",
    "# creating a class\n",
    "class Mansion(House):\n",
    "    # constructor to initialize values\n",
    "    def __init__(self, address, price, number_of_rooms):\n",
    "        # Call parent constructor\n",
    "        super().__init__(address, price)\n",
    "        self.number_of_rooms = number_of_rooms  # assigning value\n",
    "        self.number_of_rooms = number_of_rooms\n",
    "\n",
    "    # defining a function\n",
    "    def get_info(self):\n",
    "        return f\"Mansion located at {self.address}, Price: ₹{self.price}, Rooms: {self.number_of_rooms}\""
   ]
  },
  {
   "cell_type": "code",
   "execution_count": null,
   "metadata": {
    "colab": {
     "base_uri": "https://localhost:8080/"
    },
    "id": "mLpPNc7dfGR7",
    "outputId": "45f5b85b-cb2a-428f-f9bf-ccaf53476020"
   },
   "outputs": [
    {
     "name": "stdout",
     "output_type": "stream",
     "text": [
      "House located at 123 Street, Delhi, Price: ₹5000000\n",
      "Mansion located at 45 Luxury Road, Mumbai, Price: ₹20000000, Rooms: 12\n"
     ]
    }
   ],
   "source": [
    "# Example usage\n",
    "h1 = House(\"123 Street, Delhi\", 5000000)  # assigning value\n",
    "h1 = House(\"123 Street, Delhi\", 5000000)\n",
    "m1 = Mansion(\"45 Luxury Road, Mumbai\", 20000000, 12)  # assigning value\n",
    "m1 = Mansion(\"45 Luxury Road, Mumbai\", 20000000, 12)\n",
    "\n",
    "print(h1.get_info())\n",
    "print(m1.get_info())"
   ]
  },
  {
   "cell_type": "code",
   "execution_count": null,
   "metadata": {
    "id": "UM7ty3FQfJuN"
   },
   "outputs": [],
   "source": []
  }
 ],
 "metadata": {
  "colab": {
   "provenance": []
  },
  "kernelspec": {
   "display_name": "Python 3",
   "name": "python3"
  },
  "language_info": {
   "name": "python"
  }
 },
 "nbformat": 4,
 "nbformat_minor": 0
}
