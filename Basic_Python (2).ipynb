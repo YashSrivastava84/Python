{
  "nbformat": 4,
  "nbformat_minor": 0,
  "metadata": {
    "colab": {
      "provenance": []
    },
    "kernelspec": {
      "name": "python3",
      "display_name": "Python 3"
    },
    "language_info": {
      "name": "python"
    }
  },
  "cells": [
    {
      "cell_type": "markdown",
      "source": [
        "1. What is Python, and why is it popular?\n",
        "   - Python is a high interpreted programming language and it is very popular because it has more libraries and simplicity as compare to other language.\n",
        "\n",
        "2. What is an interpreter in Python?\n",
        "   - The Python interpreter is a function that reads your Python code line-by-line and that converts high level language into low level   language so that the computer can execute it.\n",
        "\n",
        "3. What are pre-defined keywords in Python?\n",
        "   - In python pre-defined keywords cannot be use as a variable name, function name, or identifier because Python uses it for specific purposes in the language.\n",
        "\n",
        "4. Can keywords be used as variable names?\n",
        "   - No, it has a specific meaning that can not be used as variable.\n",
        "\n",
        "5. What is mutability in Python?\n",
        "   - Any changes in python code is called mutability.\n",
        "\n",
        "6. Why are lists mutable, but tuples are immutable?\n",
        "   - Lists are stored as a dynamic array in memory so that the list is mutable, but tuples are stored in a fixed memory block once created that is immutable.\n",
        "\n",
        "7. What is the difference between “==” and “is” operators in Python\n",
        "   - \"==\" Checks if the values of two objects are the same and \"is\" Checks if both variables refer to the exact same object in memory.\n",
        "\n",
        "8. What are logical operators in Python?\n",
        "   - Logical operators in Python are used to combine or modify conditional statements, resulting in a Boolean value.\n",
        "\n",
        "9. What is type casting in Python?\n",
        "   - The typecasting is converting a value from one data type to another using built-in functions.\n",
        "\n",
        "10. What is the difference between implicit and explicit type casting?\n",
        "    - Implicit type casting is an automatic process performed by the Python interpreter, where a value is converted from one data type to another. Explicit type casting is a requires manually program for convert one data type to another.\n",
        "\n",
        "11. What is the purpose of conditional statements in Python?\n",
        "    - Conditional statements have decision-making capability, allowing a program to execute specific code blocks.\n",
        "\n",
        "12. How does the Elif statement work?\n",
        "    - When the condition in the initial \"if\" statement evaluates to false, the program proceeds to check the \"Elif\" conditions in the order they are defined.\n",
        "\n",
        "13. What is the difference between for and while loops?\n",
        "    - The \"for\" loop is used when it is known that the loop has to be run a certain number of times, and the \"while\" loop is used when the loop has to be run an unknown time.\n",
        "\n",
        "14. Describe a scenario where a while loop is more suitable than a for loop?\n",
        "    - The while loop is used when you don't know in advance how many times the loop will run depending on the condition being true.\n"
      ],
      "metadata": {
        "id": "z7Q9j8-GnGaU"
      }
    },
    {
      "cell_type": "code",
      "source": [
        "1 # Write a Python program to print \"Hello, World!y\n",
        "print(\"Hello, World!y\")"
      ],
      "metadata": {
        "id": "CaBPIwkgyI3I",
        "colab": {
          "base_uri": "https://localhost:8080/"
        },
        "outputId": "d1ed7d15-d2fb-4bc8-ee0f-b29118801895"
      },
      "execution_count": null,
      "outputs": [
        {
          "output_type": "stream",
          "name": "stdout",
          "text": [
            "Hello, World!y\n"
          ]
        }
      ]
    },
    {
      "cell_type": "code",
      "source": [
        "2 # Write a Python program that displays your name and age\n",
        "name = input(\"Enter your name:\")\n",
        "age = int(input(\"Enter your age\"))\n",
        "print(name)\n",
        "print(age)"
      ],
      "metadata": {
        "id": "vc1RFqVq-AbB",
        "colab": {
          "base_uri": "https://localhost:8080/"
        },
        "outputId": "11e3d47b-ee40-4925-cbe8-5dc4cabce114"
      },
      "execution_count": null,
      "outputs": [
        {
          "output_type": "stream",
          "name": "stdout",
          "text": [
            "Enter your name:Yash\n",
            "Enter your age19\n",
            "Yash\n",
            "19\n"
          ]
        }
      ]
    },
    {
      "cell_type": "code",
      "source": [
        "3 # Write code to print all the pre-defined keywords in Python using the keyword library\n",
        "import keyword\n",
        "print(keyword.kwlist)"
      ],
      "metadata": {
        "colab": {
          "base_uri": "https://localhost:8080/"
        },
        "id": "VaU91X3rX1Od",
        "outputId": "160a9374-7227-4464-ff2c-236cd5f6eb0a"
      },
      "execution_count": null,
      "outputs": [
        {
          "output_type": "stream",
          "name": "stdout",
          "text": [
            "['False', 'None', 'True', 'and', 'as', 'assert', 'async', 'await', 'break', 'class', 'continue', 'def', 'del', 'elif', 'else', 'except', 'finally', 'for', 'from', 'global', 'if', 'import', 'in', 'is', 'lambda', 'nonlocal', 'not', 'or', 'pass', 'raise', 'return', 'try', 'while', 'with', 'yield']\n"
          ]
        }
      ]
    },
    {
      "cell_type": "code",
      "source": [
        "4 # Write a program that checks if a given word is a Python keyword.\n",
        "import keyword\n",
        "word = input(\"Enter a word:\")\n",
        "if keyword.iskeyword(word):\n",
        "    print(f\"{word} is a keyword\")\n",
        "else:\n",
        "    print(f\"{word} is not a keyword\")"
      ],
      "metadata": {
        "colab": {
          "base_uri": "https://localhost:8080/"
        },
        "id": "_x7EiFJRYULe",
        "outputId": "1245c447-c6c7-44c2-86b7-833d5c6deb7d"
      },
      "execution_count": null,
      "outputs": [
        {
          "output_type": "stream",
          "name": "stdout",
          "text": [
            "Enter a word:else\n",
            "else is a keyword\n"
          ]
        }
      ]
    },
    {
      "cell_type": "code",
      "source": [
        "5 # Create a list and tuple in Python, and demonstrate how attempting to change an element works differently for each.\n",
        "## my list\n",
        "my_list = [1, 2, 3, 4, 5]\n",
        "print(my_list)\n",
        "\n",
        "#change in my_list\n",
        "my_list[2] = 90\n",
        "print(my_list)\n",
        "\n",
        "## my tuple\n",
        "my_tuple = (1, 2, 3, 4, 5)\n",
        "print(my_tuple)\n",
        "\n",
        "# Try to change an element in the tuple\n",
        "try:\n",
        "    my_tuple[2] = 99   # Attempting to change 30 → 99\n",
        "except TypeError as e:\n",
        "    print(\"Error:\", e)"
      ],
      "metadata": {
        "colab": {
          "base_uri": "https://localhost:8080/"
        },
        "id": "3Mp0hC0CdcSF",
        "outputId": "b95a5c40-d7ea-48fe-84cd-47793dc4db8e"
      },
      "execution_count": null,
      "outputs": [
        {
          "output_type": "stream",
          "name": "stdout",
          "text": [
            "[1, 2, 3, 4, 5]\n",
            "[1, 2, 90, 4, 5]\n",
            "(1, 2, 3, 4, 5)\n",
            "Error: 'tuple' object does not support item assignment\n"
          ]
        }
      ]
    },
    {
      "cell_type": "code",
      "source": [
        "6 # Write a function to demonstrate the behavior of mutable and immutable arguments.\n",
        "# List is mutable\n",
        "list1 = [10, 46, 78, 98, 45, \"yash\", 90]\n",
        "print(\"Original list:\", list1)\n",
        "list1.append(\"abhi\")\n",
        "print(\"Modified list:\", list1)\n",
        "\n",
        "# Tuple is immutable\n",
        "tupals = (10, 46, 78, 98, 45, \"yash\", 90)\n",
        "print(\"\\nOriginal tuple:\", tupals)\n",
        "\n",
        "# Trying to modify tuple\n",
        "try:\n",
        "    tupals.append(\"abhi\")  #This will raise an AttributeError\n",
        "except AttributeError as f:\n",
        "    print(\"Error:\", f)"
      ],
      "metadata": {
        "colab": {
          "base_uri": "https://localhost:8080/"
        },
        "id": "tusUlv12jjyu",
        "outputId": "90977f4f-29d7-451a-ae39-c54013638ea4"
      },
      "execution_count": null,
      "outputs": [
        {
          "output_type": "stream",
          "name": "stdout",
          "text": [
            "Original list: [10, 46, 78, 98, 45, 'yash', 90]\n",
            "Modified list: [10, 46, 78, 98, 45, 'yash', 90, 'abhi']\n",
            "\n",
            "Original tuple: (10, 46, 78, 98, 45, 'yash', 90)\n",
            "Error: 'tuple' object has no attribute 'append'\n"
          ]
        }
      ]
    },
    {
      "cell_type": "code",
      "source": [
        "7 # Write a program that performs basic arithmetic operations on two user-input numbers\n",
        "\n",
        "# Taking user input\n",
        "a = float(input(\"Enter first number: \"))\n",
        "b = float(input(\"Enter second number: \"))\n",
        "print(\"Addition\" , a+b)\n",
        "print(\"Subtract\", a-b)\n",
        "print(\"Multiplication\", a*b)\n",
        "print(\"Division\", a/b)"
      ],
      "metadata": {
        "colab": {
          "base_uri": "https://localhost:8080/"
        },
        "id": "XM2UPeqLv6Ln",
        "outputId": "ee1fc8d5-9a7e-41c6-f31e-2a650d0b0ea9"
      },
      "execution_count": null,
      "outputs": [
        {
          "output_type": "stream",
          "name": "stdout",
          "text": [
            "Enter first number: 98\n",
            "Enter second number: 2\n",
            "Addition 100.0\n",
            "Subtract 96.0\n",
            "Multiplication 196.0\n",
            "Division 49.0\n"
          ]
        }
      ]
    },
    {
      "cell_type": "code",
      "source": [
        "8 # Write a program to demonstrate the use of logical operators.\n",
        "\n",
        "\n",
        "# Program to demonstrate the use of logical operators\n",
        "x = int(input(\"Enter first number: \"))\n",
        "y = int(input(\"Enter second number: \"))\n",
        "print(x > 50 and y > 20)   # True and True → True\n",
        "print(x > 40 or y > 30)   # False or True → True\n",
        "print(not(x > 15))        # not(True) → False\n"
      ],
      "metadata": {
        "colab": {
          "base_uri": "https://localhost:8080/"
        },
        "id": "c0sDbznNG67n",
        "outputId": "d48ef677-690c-4dad-bc28-ce2e06187835"
      },
      "execution_count": null,
      "outputs": [
        {
          "output_type": "stream",
          "name": "stdout",
          "text": [
            "Enter first number: 45\n",
            "Enter second number: 35\n",
            "False\n",
            "True\n",
            "False\n"
          ]
        }
      ]
    },
    {
      "cell_type": "code",
      "source": [
        "9 # Write a Python program to convert user input from string to integer, float, and boolean types\n",
        "user_input = input(\"Enter a value: \")\n",
        "\n",
        "# Integer conversion\n",
        "try:\n",
        "    print(\"Integer:\", int(user_input), type(int(user_input)))\n",
        "except:\n",
        "    print(\"Cannot convert to Integer\")\n",
        "\n",
        "# Float conversion\n",
        "try:\n",
        "    print(\"Float:\", float(user_input),type(float(user_input)))\n",
        "except:\n",
        "    print(\"Cannot convert to Float\")\n",
        "\n",
        "# Boolean conversion\n",
        "if user_input.lower() == \"true\":\n",
        "    bool_value = True\n",
        "elif user_input.lower() == \"false\":\n",
        "    bool_value = False\n",
        "else:\n",
        "    bool_value = bool(user_input)\n",
        "\n",
        "print(\"Boolean:\", bool_value, type(bool_value))"
      ],
      "metadata": {
        "id": "ErQNUBjJJmSM",
        "colab": {
          "base_uri": "https://localhost:8080/"
        },
        "outputId": "54cb26d7-3c03-49e1-85e9-d6f2b5325ad2"
      },
      "execution_count": null,
      "outputs": [
        {
          "output_type": "stream",
          "name": "stdout",
          "text": [
            "Enter a value: yash\n",
            "Cannot convert to Integer\n",
            "Cannot convert to Float\n",
            "Boolean: True <class 'bool'>\n"
          ]
        }
      ]
    },
    {
      "cell_type": "code",
      "source": [
        "10 # Write code to demonstrate type casting with list elements\n",
        "#list\n",
        "list1 = [25, 47, 80, 62, 13]\n",
        "print(\"list:\", list1)\n",
        "\n",
        "# Convert all elements into string\n",
        "str_list = [str(x) for x in list1]\n",
        "print(\"List elements as string:\", str_list)\n",
        "\n",
        "# Convert all elements into float\n",
        "float_list = [float(x) for x in list1]\n",
        "print(\"List elements as float:\", float_list)\n",
        "\n",
        "# Convert all elements into boolean\n",
        "bool_list = [bool(x) for x in list1]\n",
        "print(\"List elements as boolean:\", bool_list)"
      ],
      "metadata": {
        "colab": {
          "base_uri": "https://localhost:8080/"
        },
        "id": "63PoE6l8zuo9",
        "outputId": "fc4bc5f3-a924-48cf-9e26-62bffea23961"
      },
      "execution_count": null,
      "outputs": [
        {
          "output_type": "stream",
          "name": "stdout",
          "text": [
            "list: [25, 47, 80, 62, 13]\n",
            "List elements as string: ['25', '47', '80', '62', '13']\n",
            "List elements as float: [25.0, 47.0, 80.0, 62.0, 13.0]\n",
            "List elements as boolean: [True, True, True, True, True]\n"
          ]
        }
      ]
    },
    {
      "cell_type": "code",
      "source": [
        "11 # Write a program that checks if a number is positive, negative, or zero.\n",
        "\n",
        "# Taking user input\n",
        "num = int(input(\"Enter a number:\"))\n",
        "if num > 0:\n",
        "  print(\"Number is positive\")\n",
        "elif num < 0:\n",
        "  print(\"Number is negative\")\n",
        "else:\n",
        "  print(\"number is zero\")"
      ],
      "metadata": {
        "colab": {
          "base_uri": "https://localhost:8080/"
        },
        "id": "FhPYJOMw6km-",
        "outputId": "b05542c7-08a7-47e6-c2bb-fb856c0a6d82"
      },
      "execution_count": null,
      "outputs": [
        {
          "output_type": "stream",
          "name": "stdout",
          "text": [
            "Enter a number:520\n",
            "Number is positive\n"
          ]
        }
      ]
    },
    {
      "cell_type": "code",
      "source": [
        "12 # Write a for loop to print numbers from 1 to 10\n",
        "for i in range(1, 11):\n",
        "    print(i)"
      ],
      "metadata": {
        "colab": {
          "base_uri": "https://localhost:8080/"
        },
        "id": "DEwItT9aADRa",
        "outputId": "98b18415-e37d-40c0-c4d4-a6039d29d21f"
      },
      "execution_count": null,
      "outputs": [
        {
          "output_type": "stream",
          "name": "stdout",
          "text": [
            "1\n",
            "2\n",
            "3\n",
            "4\n",
            "5\n",
            "6\n",
            "7\n",
            "8\n",
            "9\n",
            "10\n"
          ]
        }
      ]
    },
    {
      "cell_type": "code",
      "source": [
        "13 # Write a Python program to find the sum of all even numbers between 1 and 50.\n",
        "total = 0\n",
        "\n",
        "# Loop through numbers from 1 to 50\n",
        "for i in range(1, 51):\n",
        "    if i % 2 == 0:   # check if number is even\n",
        "        total += i\n",
        "\n",
        "print(\"The sum of all even numbers between 1 and 50 is:\", total)"
      ],
      "metadata": {
        "id": "I8ajeijtCTjY",
        "colab": {
          "base_uri": "https://localhost:8080/"
        },
        "outputId": "2998cdc7-57fd-41d9-e269-8ac84c468bc4"
      },
      "execution_count": null,
      "outputs": [
        {
          "output_type": "stream",
          "name": "stdout",
          "text": [
            "The sum of all even numbers between 1 and 50 is: 650\n"
          ]
        }
      ]
    },
    {
      "cell_type": "code",
      "source": [
        "14 # Write a program to reverse a string using a while loop.\n",
        "string = input(\"Enter a string:\")\n",
        "reversed_string = \"\"\n",
        "length = len(string)\n",
        "while length > 0:\n",
        "    reversed_string += string[length - 1]\n",
        "    length = length - 1\n",
        "print(reversed_string)"
      ],
      "metadata": {
        "colab": {
          "base_uri": "https://localhost:8080/"
        },
        "id": "fY5UuYSM0NlU",
        "outputId": "e79d2350-b9e7-4ac6-e24e-bda99d218422"
      },
      "execution_count": null,
      "outputs": [
        {
          "output_type": "stream",
          "name": "stdout",
          "text": [
            "Enter a string:rudranshvearmaji\n",
            "ijamraevhsnardur\n"
          ]
        }
      ]
    },
    {
      "cell_type": "code",
      "source": [
        "15.# Write a Python program to calculate the factorial of a number provided by the user using a while loop.\n",
        "# Take input from user\n",
        "num = int(input(\"Enter a number: \"))\n",
        "\n",
        "factorial = 1\n",
        "i = 1\n",
        "\n",
        "while i <= num:\n",
        "    factorial *= i\n",
        "    i += 1\n",
        "\n",
        "print(\"The factorial of\", num, \"is:\", factorial)"
      ],
      "metadata": {
        "colab": {
          "base_uri": "https://localhost:8080/"
        },
        "id": "Wf9czqyE4wWC",
        "outputId": "9b623d1a-4a64-44d3-e07d-3ffa31d8d96c"
      },
      "execution_count": null,
      "outputs": [
        {
          "output_type": "stream",
          "name": "stdout",
          "text": [
            "Enter a number: 12\n",
            "The factorial of 12 is: 479001600\n"
          ]
        }
      ]
    },
    {
      "cell_type": "code",
      "source": [],
      "metadata": {
        "id": "lx4vB45L7ZCW"
      },
      "execution_count": null,
      "outputs": []
    }
  ]
}