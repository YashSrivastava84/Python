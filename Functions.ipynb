{
  "nbformat": 4,
  "nbformat_minor": 0,
  "metadata": {
    "colab": {
      "provenance": []
    },
    "kernelspec": {
      "name": "python3",
      "display_name": "Python 3"
    },
    "language_info": {
      "name": "python"
    }
  },
  "cells": [
    {
      "cell_type": "markdown",
      "source": [
        "1. # What is the difference between a function and a method in Python?\n",
        "   -A function in Python is an independent block of code that performs a specific task and does not depend on any object or class. A method is similar to a function, but it is always associated with an object or class and works with the object's data. Functions can be called directly, while methods are called using the object they belong to. Functions can be defined outside or inside a class, but methods are always defined within a class.\n",
        "\n",
        "2. #  Explain the concept of function arguments and parameters in Python.\n",
        "   -parameters are variables used in a function definition as placeholders, while arguments are the actual values passed to the function when it is called. They allow functions to work with different data, making the code reusable and flexible.\n",
        "\n",
        "3. # What are the different ways to define and call a function in Python?\n",
        "   - function can be defined using the def keyword followed by the function name and parentheses. It can be called by using its name with the required arguments inside parentheses. Python also allows creating small anonymous functions using the lambda keyword.\n",
        "\n",
        "4. # What is the purpose of the 'return' statement in a Python function?\n",
        "   - The return statement in a Python function is used to send a value back to the part of the program that called the function. It allows the function to produce a result that can be stored in a variable, used in expressions, or displayed.\n",
        "\n",
        "5. # What are iterators in Python and how do they differ from iterables?\n",
        "   - In Python, an iterable is any object that can return its elements one by one, such as a list, tuple, or string. An iterator is an object that keeps track of the current position while iterating over an iterable and provides the next element when requested using the next() function.\n",
        "\n",
        "6. # Explain the concept of generators in Python and how they are defined.\n",
        "   - A generator is a special type of function that returns an iterator and produces values one at a time using the yield statement instead of return. Generators are defined like regular functions using the def keyword, but they use yield to give a value to the caller and pause their state, allowing them to resume later. They are memory-efficient because they generate values on demand rather than storing all values in memory at once.\n",
        "\n",
        "7. # What are the advantages of using generators over regular functions?\n",
        "   - Generators are memory-efficient because they produce values one at a time instead of storing all values in memory like regular functions. They allow processing of large datasets without using much memory and can be paused and resumed, making them faster and more efficient for iterative tasks.\n",
        "\n",
        "8. # What is a lambda function in Python and when is it typically used?\n",
        "   - A lambda function in Python is a small, anonymous function defined using the lambda keyword instead of def. It can take any number of arguments but has only a single expression, which is returned automatically. Lambda functions are typically used for short, simple operations, often as arguments to functions like map(), filter(), or sorted().\n",
        "\n",
        "9. # Explain the purpose and usage of the 'map()' function in Python.\n",
        "   - The map() function in Python is used to apply a given function to each item of an iterable like a list or tuple. It returns a map object, which can be converted into a list, tuple, or other sequence types. The main purpose of map() is to simplify applying the same operation to multiple items without using a loop.\n",
        "\n",
        "10. # . What is the difference between 'map()', 'reduce()', and 'filter()' functions in Python?\n",
        "    - The map() function applies a given function to each item of an iterable and returns the results. The filter() function checks each item with a condition and returns only those items that are true for that condition. The reduce() function, from the functools module, applies a function cumulatively to the items of an iterable to reduce it to a single value. In short, map transforms, filter selects, and reduce combines."
      ],
      "metadata": {
        "id": "9qmwvgJsUDs4"
      }
    },
    {
      "cell_type": "markdown",
      "source": [
        "## Practical Answer\n"
      ],
      "metadata": {
        "id": "Suu9lDrCnhfn"
      }
    },
    {
      "cell_type": "code",
      "source": [
        "1.# Write a Python function that takes a list of numbers as input and returns the sum of all even numbers in the list.\n",
        "def sum_of_evens(numbers):\n",
        "    total = 0\n",
        "    for num in numbers:\n",
        "        if num % 2 == 0:\n",
        "            total += num\n",
        "    return total"
      ],
      "metadata": {
        "id": "bjQKhiM5ltnd"
      },
      "execution_count": null,
      "outputs": []
    },
    {
      "cell_type": "code",
      "source": [
        "my_list = [1, 2, 3, 4, 5, 6, 7, 8]\n",
        "print(sum_of_evens(my_list))"
      ],
      "metadata": {
        "colab": {
          "base_uri": "https://localhost:8080/"
        },
        "id": "lCXdi08CODdU",
        "outputId": "413b8970-107b-4f65-ed93-811266ba3486"
      },
      "execution_count": null,
      "outputs": [
        {
          "output_type": "stream",
          "name": "stdout",
          "text": [
            "20\n"
          ]
        }
      ]
    },
    {
      "cell_type": "code",
      "source": [
        "2.# Create a Python function that accepts a string and returns the reverse of that string.\n",
        "def reverse_string(text):\n",
        "    return text[::-1]"
      ],
      "metadata": {
        "id": "dEaLCXejOJh-"
      },
      "execution_count": null,
      "outputs": []
    },
    {
      "cell_type": "code",
      "source": [
        "word = \"Yash\"\n",
        "print(reverse_string(word))"
      ],
      "metadata": {
        "colab": {
          "base_uri": "https://localhost:8080/"
        },
        "id": "nNFzmkQIOn2J",
        "outputId": "e3504042-06bf-4927-ee82-447e9123699e"
      },
      "execution_count": null,
      "outputs": [
        {
          "output_type": "stream",
          "name": "stdout",
          "text": [
            "hsaY\n"
          ]
        }
      ]
    },
    {
      "cell_type": "code",
      "source": [
        "3.# Implement a Python function that takes a list of integers and returns\n",
        "# a new list containing the squares of each number.\n",
        "def square_list(numbers):\n",
        "    squared = []\n",
        "    for num in numbers:\n",
        "        squared.append(num ** 2)\n",
        "    return squared"
      ],
      "metadata": {
        "id": "37KfsqiUOp62"
      },
      "execution_count": null,
      "outputs": []
    },
    {
      "cell_type": "code",
      "source": [
        "nums = [1, 2, 3, 4, 5]\n",
        "print(square_list(nums))"
      ],
      "metadata": {
        "colab": {
          "base_uri": "https://localhost:8080/"
        },
        "id": "RJ0PPpgVPcfB",
        "outputId": "d079ce1c-7bd1-4757-d94a-9e9d5b644b1a"
      },
      "execution_count": null,
      "outputs": [
        {
          "output_type": "stream",
          "name": "stdout",
          "text": [
            "[1, 4, 9, 16, 25]\n"
          ]
        }
      ]
    },
    {
      "cell_type": "code",
      "source": [
        "4.#  Write a Python function that checks if a given number is prime or not from 1 to 200.\n",
        "def is_prime(n):\n",
        "    if n <= 1:\n",
        "        return False\n",
        "    for i in range(2, int(n**0.5) + 1):\n",
        "        if n % i == 0:\n",
        "            return False\n",
        "    return True"
      ],
      "metadata": {
        "id": "9SXLiEV_PgKg"
      },
      "execution_count": null,
      "outputs": []
    },
    {
      "cell_type": "code",
      "source": [
        "for num in range(1, 201):\n",
        "    if is_prime(num):\n",
        "        print(num, end=\" \")"
      ],
      "metadata": {
        "colab": {
          "base_uri": "https://localhost:8080/"
        },
        "id": "B5G3LdvAQGiQ",
        "outputId": "b865febf-9827-4cf8-f33c-0021c79b7b20"
      },
      "execution_count": null,
      "outputs": [
        {
          "output_type": "stream",
          "name": "stdout",
          "text": [
            "2 3 5 7 11 13 17 19 23 29 31 37 41 43 47 53 59 61 67 71 73 79 83 89 97 101 103 107 109 113 127 131 137 139 149 151 157 163 167 173 179 181 191 193 197 199 "
          ]
        }
      ]
    },
    {
      "cell_type": "code",
      "source": [
        "5.# Create an iterator class in Python that generates the Fibonacci sequence up to a specified number of terms.\n",
        "class Fibonacci:\n",
        "    def __init__(self, terms):\n",
        "        self.terms, self.a, self.b, self.count = terms, 0, 1, 0\n",
        "\n",
        "    def __iter__(self):\n",
        "        return self\n",
        "\n",
        "    def __next__(self):\n",
        "        if self.count >= self.terms:\n",
        "            raise StopIteration\n",
        "        if self.count == 0:\n",
        "            self.count += 1\n",
        "            return self.a\n",
        "        self.a, self.b = self.b, self.a + self.b\n",
        "        self.count += 1\n",
        "        return self.a\n"
      ],
      "metadata": {
        "id": "audZizFxQJ2F"
      },
      "execution_count": null,
      "outputs": []
    },
    {
      "cell_type": "code",
      "source": [
        "class Fibonacci:\n",
        "    def __init__(self, terms):\n",
        "        self.terms, self.a, self.b, self.count = terms, 0, 1, 0\n",
        "\n",
        "    def __iter__(self):\n",
        "        return self\n",
        "\n",
        "    def __next__(self):\n",
        "        if self.count >= self.terms:\n",
        "            raise StopIteration\n",
        "        if self.count == 0:\n",
        "            self.count += 1\n",
        "            return self.a\n",
        "        self.a, self.b = self.b, self.a + self.b\n",
        "        self.count += 1\n",
        "        return self.a"
      ],
      "metadata": {
        "id": "1IDWLfWRzuEa"
      },
      "execution_count": null,
      "outputs": []
    },
    {
      "cell_type": "code",
      "source": [
        "fib = Fibonacci(5)\n",
        "for number in fib:\n",
        "    print(number, end=\" \")"
      ],
      "metadata": {
        "colab": {
          "base_uri": "https://localhost:8080/"
        },
        "id": "debZNE3jzqS0",
        "outputId": "3222d1c5-74be-42e8-e137-611fcd647c75"
      },
      "execution_count": null,
      "outputs": [
        {
          "output_type": "stream",
          "name": "stdout",
          "text": [
            "0 1 1 2 3 "
          ]
        }
      ]
    },
    {
      "cell_type": "code",
      "source": [
        "6.# Write a generator function in Python that yields the powers of 2 up to a given exponent.\n",
        "def powers_of_two(n):\n",
        "    for i in range(n + 1):\n",
        "        yield 2 ** i"
      ],
      "metadata": {
        "id": "p7PrP3eaRfdf"
      },
      "execution_count": null,
      "outputs": []
    },
    {
      "cell_type": "code",
      "source": [
        "for val in powers_of_two(5):\n",
        "    print(val, end=\" \")\n"
      ],
      "metadata": {
        "colab": {
          "base_uri": "https://localhost:8080/"
        },
        "id": "rVcpmWsBS3B7",
        "outputId": "e7633331-b0eb-475c-d1cd-9fb2078cc700"
      },
      "execution_count": null,
      "outputs": [
        {
          "output_type": "stream",
          "name": "stdout",
          "text": [
            "1 2 4 8 16 32 "
          ]
        }
      ]
    },
    {
      "cell_type": "code",
      "source": [
        "7.# Implement a generator function that reads a file line by line and yields each line as a string.\n",
        "def read_lines(lines):\n",
        "    for line in lines:\n",
        "        yield line"
      ],
      "metadata": {
        "id": "K3LQPvo2TDFf"
      },
      "execution_count": null,
      "outputs": []
    },
    {
      "cell_type": "code",
      "source": [
        "lines = [\"Hello\",\"Yash\", \"How are you?\", \"what are you doing?\"]\n",
        "for line in read_lines(lines):\n",
        "    print(line)"
      ],
      "metadata": {
        "colab": {
          "base_uri": "https://localhost:8080/"
        },
        "id": "clD-QffsUIpA",
        "outputId": "2f26a5b8-3a16-4122-d59c-ed4d62833200"
      },
      "execution_count": null,
      "outputs": [
        {
          "output_type": "stream",
          "name": "stdout",
          "text": [
            "Hello\n",
            "Yash\n",
            "How are you?\n",
            "what are you doing?\n"
          ]
        }
      ]
    },
    {
      "cell_type": "code",
      "source": [
        "8.# Use a lambda function in Python to sort a list of tuples based on the second element of each tuple.\n",
        "\n",
        "\n",
        "# List of tuples\n",
        "data = [(1, 3), (2, 1), (4, 2), (3, 5)]\n",
        "\n",
        "# Sort using lambda on second element\n",
        "sorted_data = sorted(data, key=lambda x: x[1])\n",
        "\n",
        "print(sorted_data)\n"
      ],
      "metadata": {
        "colab": {
          "base_uri": "https://localhost:8080/"
        },
        "id": "bK1ng1ntXvkK",
        "outputId": "1c4995bf-fcdc-431f-f56c-d29dc6fd77f1"
      },
      "execution_count": null,
      "outputs": [
        {
          "output_type": "stream",
          "name": "stdout",
          "text": [
            "[(2, 1), (4, 2), (1, 3), (3, 5)]\n"
          ]
        }
      ]
    },
    {
      "cell_type": "code",
      "source": [
        "9.# Write a Python program that uses `map()` to convert a list of temperatures from Celsius to Fahrenheit.\n",
        "def celsius_to_fahrenheit(celsius):\n",
        "    return (celsius * 9/5) + 32"
      ],
      "metadata": {
        "id": "-3evz0v8YE04"
      },
      "execution_count": null,
      "outputs": []
    },
    {
      "cell_type": "code",
      "source": [
        "# List of temperatures in Celsius\n",
        "celsius = [0, 20, 37, 100]\n",
        "\n",
        "# Convert to Fahrenheit using map\n",
        "fahrenheit = list(map(lambda c: (c * 9/5) + 32, celsius))\n",
        "\n",
        "print(fahrenheit)\n"
      ],
      "metadata": {
        "id": "JK6ipWUpYWvQ",
        "outputId": "78b6cd23-a655-4741-8f68-060f631fd8d7",
        "colab": {
          "base_uri": "https://localhost:8080/"
        }
      },
      "execution_count": null,
      "outputs": [
        {
          "output_type": "stream",
          "name": "stdout",
          "text": [
            "[32.0, 68.0, 98.6, 212.0]\n"
          ]
        }
      ]
    },
    {
      "cell_type": "code",
      "source": [
        "10.# Create a Python program that uses `filter()` to remove all the vowels from a given string.\n",
        "def remove_vowels(text):\n",
        "    vowels = \"aeiouAEIOU\"\n",
        "    return\"\".join(filter(lambda ch: ch not in vowels, text))\n",
        "\n",
        "# Example usage\n",
        "s = \"Hello Python World\"\n",
        "print(remove_vowels(s))\n"
      ],
      "metadata": {
        "id": "Uqy6LFD5YYHp",
        "colab": {
          "base_uri": "https://localhost:8080/"
        },
        "outputId": "a0c311aa-4c9b-4289-d6c7-872fc00a5087"
      },
      "execution_count": null,
      "outputs": [
        {
          "output_type": "stream",
          "name": "stdout",
          "text": [
            "Hll Pythn Wrld\n"
          ]
        }
      ]
    },
    {
      "cell_type": "code",
      "source": [
        "# Imagine an accounting routine used in a book shop. It works on a list with sublists, which look like this:\n",
        "\"\"\"\n",
        "Oder Number  \t  Book Title and Author\t            Quantity\tPrice per Item\n",
        "34587\t          Learning Python, Mark Lutz\t        4\t          40.95\n",
        "98762\t          Programming Python, Mar lutz\t      5\t          56.8\n",
        "77226\t          Head First Python, Paul Barry\t      3\t          32.50\n",
        "88112\t          Einfuhrung in Python3, Bernd klein \t3\t          24.99\n",
        "\"\"\"\n",
        "# Write a Python program, which returns a list with 2-tuples. Each tuple consists of the order number and the\n",
        "# product of the price per item and the quantity. The product should be increased by 10,- € if the value of the\n",
        "# order is smaller than 100,00 €.\n",
        "\n",
        "orders = [\n",
        "    [34587, \"Learning Python, Mark Lutz\", 4, 40.95],\n",
        "    [98762, \"Programming Python, Mar Lutz\", 5, 56.80],\n",
        "    [77226, \"Head First Python, Paul Barry\", 3, 32.50],\n",
        "    [88112, \"Einfuhrung in Python3, Bernd Klein\", 3, 24.99]\n",
        "]"
      ],
      "metadata": {
        "id": "FBTysmr3pFU8"
      },
      "execution_count": 1,
      "outputs": []
    },
    {
      "cell_type": "code",
      "source": [
        "result = list(map(lambda x: (x[0], x[2]*x[3] if x[2]*x[3] >= 100 else x[2]*x[3] + 10), orders))\n",
        "print(result)"
      ],
      "metadata": {
        "colab": {
          "base_uri": "https://localhost:8080/"
        },
        "id": "os7xxpqpvTSS",
        "outputId": "46e199ed-299c-4886-f191-c26fa4a0aa3e"
      },
      "execution_count": 2,
      "outputs": [
        {
          "output_type": "stream",
          "name": "stdout",
          "text": [
            "[(34587, 163.8), (98762, 284.0), (77226, 107.5), (88112, 84.97)]\n"
          ]
        }
      ]
    },
    {
      "cell_type": "code",
      "source": [],
      "metadata": {
        "id": "zwWwgMDXZ7Et"
      },
      "execution_count": null,
      "outputs": []
    }
  ]
}